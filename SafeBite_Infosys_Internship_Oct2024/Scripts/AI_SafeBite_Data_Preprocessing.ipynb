{
 "cells": [
  {
   "cell_type": "markdown",
   "id": "790931c4-66e4-404b-91cd-aa23839ebecc",
   "metadata": {},
   "source": [
    "# Data Preprocessing and Analysis Notebook"
   ]
  },
  {
   "cell_type": "markdown",
   "id": "9a9ef7e7-0d78-44c5-ab0b-13bf5f060d0b",
   "metadata": {},
   "source": [
    "In this notebook, we will perform preprocessing and analysis on the dataset **Allergen_Status_of_Food_Products.csv**. The steps include handling missing values, identifying duplicates, visualizing outliers, and applying encoding techniques to prepare the data for machine learning models."
   ]
  },
  {
   "cell_type": "markdown",
   "id": "68a5051a-bb71-4216-88b6-d1fe49e1b445",
   "metadata": {},
   "source": [
    "# Import necessary libraries"
   ]
  },
  {
   "cell_type": "markdown",
   "id": "c574df24-41b5-48c6-a553-dd327d5f3954",
   "metadata": {},
   "source": [
    "We begin by importing the necessary libraries for data preprocessing, visualization, and encoding. These libraries provide essential tools for handling data and implementing the required transformations."
   ]
  },
  {
   "cell_type": "code",
   "execution_count": 25,
   "id": "5b0842dd-3f10-49d2-ad09-6565faa27657",
   "metadata": {},
   "outputs": [],
   "source": [
    "import pandas as pd\n",
    "import matplotlib.pyplot as plt\n",
    "import seaborn as sns\n",
    "from sklearn.preprocessing import LabelEncoder\n",
    "from category_encoders import LeaveOneOutEncoder\n",
    "import pickle"
   ]
  },
  {
   "cell_type": "markdown",
   "id": "b740ced9-c81a-43ad-ae58-55ed97a6934b",
   "metadata": {},
   "source": [
    "# Reading the Dataset"
   ]
  },
  {
   "cell_type": "markdown",
   "id": "3ea7f6de-b939-42c8-8b6b-f8c41206803f",
   "metadata": {},
   "source": [
    "We will read the dataset using pandas. The dataset contains information about food products, including whether they are allergens, their prices, and customer ratings. We'll use the keep_default_na=False argument to handle empty strings and replace them with NaN values for easier processing."
   ]
  },
  {
   "cell_type": "code",
   "execution_count": 26,
   "id": "c32c6b2a-ccda-458e-8ce1-aa8a8654b4b6",
   "metadata": {},
   "outputs": [
    {
     "data": {
      "text/html": [
       "<div>\n",
       "<style scoped>\n",
       "    .dataframe tbody tr th:only-of-type {\n",
       "        vertical-align: middle;\n",
       "    }\n",
       "\n",
       "    .dataframe tbody tr th {\n",
       "        vertical-align: top;\n",
       "    }\n",
       "\n",
       "    .dataframe thead th {\n",
       "        text-align: right;\n",
       "    }\n",
       "</style>\n",
       "<table border=\"1\" class=\"dataframe\">\n",
       "  <thead>\n",
       "    <tr style=\"text-align: right;\">\n",
       "      <th></th>\n",
       "      <th>Food Product</th>\n",
       "      <th>Main Ingredient</th>\n",
       "      <th>Sweetener</th>\n",
       "      <th>Fat/Oil</th>\n",
       "      <th>Seasoning</th>\n",
       "      <th>Allergens</th>\n",
       "      <th>Price ($)</th>\n",
       "      <th>Customer rating (Out of 5)</th>\n",
       "      <th>Prediction</th>\n",
       "    </tr>\n",
       "  </thead>\n",
       "  <tbody>\n",
       "    <tr>\n",
       "      <th>0</th>\n",
       "      <td>Almond Cookies</td>\n",
       "      <td>Almonds</td>\n",
       "      <td>Sugar</td>\n",
       "      <td>Butter</td>\n",
       "      <td>Flour</td>\n",
       "      <td>Almonds, Wheat, Dairy</td>\n",
       "      <td>10.15</td>\n",
       "      <td>3.1</td>\n",
       "      <td>Contains</td>\n",
       "    </tr>\n",
       "    <tr>\n",
       "      <th>1</th>\n",
       "      <td>Almond Cookies</td>\n",
       "      <td>Almonds</td>\n",
       "      <td>Sugar</td>\n",
       "      <td>Butter</td>\n",
       "      <td>Flour</td>\n",
       "      <td>Almonds, Wheat, Dairy</td>\n",
       "      <td>6.17</td>\n",
       "      <td>4.5</td>\n",
       "      <td>Contains</td>\n",
       "    </tr>\n",
       "    <tr>\n",
       "      <th>2</th>\n",
       "      <td>Chicken Noodle Soup</td>\n",
       "      <td>Chicken broth</td>\n",
       "      <td>None</td>\n",
       "      <td>None</td>\n",
       "      <td>Salt</td>\n",
       "      <td>Chicken, Wheat, Celery</td>\n",
       "      <td>19.65</td>\n",
       "      <td>4.1</td>\n",
       "      <td>Contains</td>\n",
       "    </tr>\n",
       "    <tr>\n",
       "      <th>3</th>\n",
       "      <td>Chicken Noodle Soup</td>\n",
       "      <td>Chicken broth</td>\n",
       "      <td>None</td>\n",
       "      <td>None</td>\n",
       "      <td>Salt</td>\n",
       "      <td>Chicken, Wheat, Celery</td>\n",
       "      <td>17.48</td>\n",
       "      <td>4.7</td>\n",
       "      <td>Contains</td>\n",
       "    </tr>\n",
       "    <tr>\n",
       "      <th>4</th>\n",
       "      <td>Cheddar Cheese</td>\n",
       "      <td>Cheese</td>\n",
       "      <td>None</td>\n",
       "      <td>None</td>\n",
       "      <td>Salt</td>\n",
       "      <td>Dairy</td>\n",
       "      <td>10.83</td>\n",
       "      <td>3.7</td>\n",
       "      <td>Contains</td>\n",
       "    </tr>\n",
       "  </tbody>\n",
       "</table>\n",
       "</div>"
      ],
      "text/plain": [
       "          Food Product Main Ingredient Sweetener Fat/Oil Seasoning  \\\n",
       "0       Almond Cookies         Almonds     Sugar  Butter     Flour   \n",
       "1       Almond Cookies         Almonds     Sugar  Butter     Flour   \n",
       "2  Chicken Noodle Soup   Chicken broth      None    None      Salt   \n",
       "3  Chicken Noodle Soup   Chicken broth      None    None      Salt   \n",
       "4       Cheddar Cheese          Cheese      None    None      Salt   \n",
       "\n",
       "                Allergens  Price ($)  Customer rating (Out of 5) Prediction  \n",
       "0   Almonds, Wheat, Dairy      10.15                         3.1   Contains  \n",
       "1   Almonds, Wheat, Dairy       6.17                         4.5   Contains  \n",
       "2  Chicken, Wheat, Celery      19.65                         4.1   Contains  \n",
       "3  Chicken, Wheat, Celery      17.48                         4.7   Contains  \n",
       "4                   Dairy      10.83                         3.7   Contains  "
      ]
     },
     "execution_count": 26,
     "metadata": {},
     "output_type": "execute_result"
    }
   ],
   "source": [
    "# Load the dataset\n",
    "df = pd.read_csv(\"Dataset/Allergen_Status_of_Food_Products.csv\", keep_default_na=False, na_values=[\"\"])\n",
    "df.head()"
   ]
  },
  {
   "cell_type": "markdown",
   "id": "8c8d010f-0e49-4683-bab4-835f69b90688",
   "metadata": {},
   "source": [
    "# Preprocessing the Dataset"
   ]
  },
  {
   "cell_type": "markdown",
   "id": "b628c313-9d5b-46e3-8fb3-c749c80c211b",
   "metadata": {},
   "source": [
    "Preprocessing is a critical step in data analysis to ensure the dataset is clean and ready for further exploration and modeling. This involves handling missing values and duplicates."
   ]
  },
  {
   "cell_type": "markdown",
   "id": "adf15048-5c5e-4cb0-be8f-bbe1c06ace6a",
   "metadata": {},
   "source": [
    "## Handling Null Values in the Dataset"
   ]
  },
  {
   "cell_type": "markdown",
   "id": "fa1439c6-f4d4-45d0-bcb0-374c943f238d",
   "metadata": {},
   "source": [
    "Missing values can lead to errors during data analysis or model training. We will check for null values in each column and drop rows with missing data."
   ]
  },
  {
   "cell_type": "code",
   "execution_count": 27,
   "id": "7201557a-e035-4089-9f86-f2a090fd78a0",
   "metadata": {},
   "outputs": [
    {
     "name": "stdout",
     "output_type": "stream",
     "text": [
      "Null values in each column:\n",
      "Food Product                  0\n",
      "Main Ingredient               0\n",
      "Sweetener                     0\n",
      "Fat/Oil                       0\n",
      "Seasoning                     0\n",
      "Allergens                     0\n",
      "Price ($)                     0\n",
      "Customer rating (Out of 5)    0\n",
      "Prediction                    1\n",
      "dtype: int64\n"
     ]
    }
   ],
   "source": [
    "# Check for null values\n",
    "print(\"Null values in each column:\")\n",
    "print(df.isnull().sum())\n",
    "\n",
    "# Drop rows with null values\n",
    "df.dropna(axis=0, inplace=True)"
   ]
  },
  {
   "cell_type": "markdown",
   "id": "fa0531b4-8524-409e-bafb-e2842b9c21d3",
   "metadata": {},
   "source": [
    "## Identifying Duplicates in the Dataset"
   ]
  },
  {
   "cell_type": "markdown",
   "id": "dbb946dc-caab-4697-927f-dc24746adc3f",
   "metadata": {},
   "source": [
    "Duplicate rows can inflate the dataset size and introduce bias in the analysis. Here, we identify and display duplicate rows for removal."
   ]
  },
  {
   "cell_type": "code",
   "execution_count": 28,
   "id": "95eb6066-6445-4833-a1f0-46026f0f6365",
   "metadata": {},
   "outputs": [
    {
     "name": "stdout",
     "output_type": "stream",
     "text": [
      "Duplicate rows:\n",
      "Empty DataFrame\n",
      "Columns: [Food Product, Main Ingredient, Sweetener, Fat/Oil, Seasoning, Allergens, Price ($), Customer rating (Out of 5), Prediction]\n",
      "Index: []\n"
     ]
    }
   ],
   "source": [
    "# Identify duplicate rows in the dataset\n",
    "duplicates = df.duplicated()\n",
    "print(\"Duplicate rows:\")\n",
    "print(df[duplicates])"
   ]
  },
  {
   "cell_type": "markdown",
   "id": "f7f4e839-69e4-4d53-b0b2-fa33e3f0d0bf",
   "metadata": {},
   "source": [
    "# Visualizing Outliers"
   ]
  },
  {
   "cell_type": "markdown",
   "id": "446e4c40-747d-4fc8-89d2-980f7e0a643e",
   "metadata": {},
   "source": [
    "Outliers can skew the analysis and impact the performance of machine learning models. We will use box plots and scatter plots to identify outliers in the Customer rating and Price ($) columns."
   ]
  },
  {
   "cell_type": "markdown",
   "id": "2a0111ac-ced3-4a0c-b92b-5fd662d1f663",
   "metadata": {},
   "source": [
    "## Box Plot and Scatter Plot for Numerical Features"
   ]
  },
  {
   "cell_type": "markdown",
   "id": "45b9eddf-a70d-46a7-a96b-54fcc7f6fdc5",
   "metadata": {},
   "source": [
    "Box plots and scatter plots help visualize the distribution and variability in the dataset."
   ]
  },
  {
   "cell_type": "code",
   "execution_count": 29,
   "id": "ceae2da7-b9b2-4f21-8a1f-5360b59700f8",
   "metadata": {},
   "outputs": [
    {
     "data": {
      "image/png": "[encoded data removed]",
      "text/plain": [
       "<Figure size 1200x1000 with 4 Axes>"
      ]
     },
     "metadata": {},
     "output_type": "display_data"
    }
   ],
   "source": [
    "# Visualizing outliers using box and scatter plots\n",
    "fig, axes = plt.subplots(2, 2, figsize=(12, 10))\n",
    "\n",
    "# Box plot for 'Customer rating'\n",
    "sns.boxplot(data=df['Customer rating (Out of 5)'], ax=axes[0, 0], color='lightblue')\n",
    "axes[0, 0].set_title('Box Plot - Customer rating (Out of 5)')\n",
    "\n",
    "# Box plot for 'Price ($)'\n",
    "sns.boxplot(data=df['Price ($)'], ax=axes[0, 1], color='lightgreen')\n",
    "axes[0, 1].set_title('Box Plot - Price ($)')\n",
    "\n",
    "# Scatter plot for 'Customer rating'\n",
    "sns.scatterplot(x=df.index, y=df['Customer rating (Out of 5)'], ax=axes[1, 0], color='blue')\n",
    "axes[1, 0].set_title('Scatter Plot - Customer rating (Out of 5)')\n",
    "\n",
    "# Scatter plot for 'Price ($)'\n",
    "sns.scatterplot(x=df.index, y=df['Price ($)'], ax=axes[1, 1], color='green')\n",
    "axes[1, 1].set_title('Scatter Plot - Price ($)')\n",
    "\n",
    "plt.tight_layout()\n",
    "plt.show()"
   ]
  },
  {
   "cell_type": "markdown",
   "id": "3b759f84-851f-4e1f-8d2d-4d27c2a1b9f9",
   "metadata": {},
   "source": [
    "# Encoding Categorical Variables"
   ]
  },
  {
   "cell_type": "markdown",
   "id": "e1addd12-f9bd-4e00-8726-65e8d3fd074f",
   "metadata": {},
   "source": [
    "Many machine learning algorithms require numerical inputs. We will encode the categorical variables to make them suitable for modeling."
   ]
  },
  {
   "cell_type": "markdown",
   "id": "7516ed7c-fe3c-4bd7-b9d7-057824b4d6c9",
   "metadata": {},
   "source": [
    "## Label Encoding for Prediction"
   ]
  },
  {
   "cell_type": "markdown",
   "id": "88758095-c8d6-408d-b07c-812d4ae609a2",
   "metadata": {},
   "source": [
    "Label encoding assigns integer labels to unique categories in the Is_Allergen column, making it easier to process while retaining the original order of values."
   ]
  },
  {
   "cell_type": "code",
   "execution_count": 30,
   "id": "9ada3a03-82f8-48e9-b600-9398e13af8f1",
   "metadata": {},
   "outputs": [
    {
     "name": "stdout",
     "output_type": "stream",
     "text": [
      "Dataset after label encoding 'Prediction':\n"
     ]
    },
    {
     "data": {
      "text/html": [
       "<div>\n",
       "<style scoped>\n",
       "    .dataframe tbody tr th:only-of-type {\n",
       "        vertical-align: middle;\n",
       "    }\n",
       "\n",
       "    .dataframe tbody tr th {\n",
       "        vertical-align: top;\n",
       "    }\n",
       "\n",
       "    .dataframe thead th {\n",
       "        text-align: right;\n",
       "    }\n",
       "</style>\n",
       "<table border=\"1\" class=\"dataframe\">\n",
       "  <thead>\n",
       "    <tr style=\"text-align: right;\">\n",
       "      <th></th>\n",
       "      <th>Food Product</th>\n",
       "      <th>Main Ingredient</th>\n",
       "      <th>Sweetener</th>\n",
       "      <th>Fat/Oil</th>\n",
       "      <th>Seasoning</th>\n",
       "      <th>Allergens</th>\n",
       "      <th>Price ($)</th>\n",
       "      <th>Customer rating (Out of 5)</th>\n",
       "      <th>Prediction</th>\n",
       "    </tr>\n",
       "  </thead>\n",
       "  <tbody>\n",
       "    <tr>\n",
       "      <th>0</th>\n",
       "      <td>Almond Cookies</td>\n",
       "      <td>Almonds</td>\n",
       "      <td>Sugar</td>\n",
       "      <td>Butter</td>\n",
       "      <td>Flour</td>\n",
       "      <td>Almonds, Wheat, Dairy</td>\n",
       "      <td>10.15</td>\n",
       "      <td>3.1</td>\n",
       "      <td>0</td>\n",
       "    </tr>\n",
       "    <tr>\n",
       "      <th>1</th>\n",
       "      <td>Almond Cookies</td>\n",
       "      <td>Almonds</td>\n",
       "      <td>Sugar</td>\n",
       "      <td>Butter</td>\n",
       "      <td>Flour</td>\n",
       "      <td>Almonds, Wheat, Dairy</td>\n",
       "      <td>6.17</td>\n",
       "      <td>4.5</td>\n",
       "      <td>0</td>\n",
       "    </tr>\n",
       "    <tr>\n",
       "      <th>2</th>\n",
       "      <td>Chicken Noodle Soup</td>\n",
       "      <td>Chicken broth</td>\n",
       "      <td>None</td>\n",
       "      <td>None</td>\n",
       "      <td>Salt</td>\n",
       "      <td>Chicken, Wheat, Celery</td>\n",
       "      <td>19.65</td>\n",
       "      <td>4.1</td>\n",
       "      <td>0</td>\n",
       "    </tr>\n",
       "    <tr>\n",
       "      <th>3</th>\n",
       "      <td>Chicken Noodle Soup</td>\n",
       "      <td>Chicken broth</td>\n",
       "      <td>None</td>\n",
       "      <td>None</td>\n",
       "      <td>Salt</td>\n",
       "      <td>Chicken, Wheat, Celery</td>\n",
       "      <td>17.48</td>\n",
       "      <td>4.7</td>\n",
       "      <td>0</td>\n",
       "    </tr>\n",
       "    <tr>\n",
       "      <th>4</th>\n",
       "      <td>Cheddar Cheese</td>\n",
       "      <td>Cheese</td>\n",
       "      <td>None</td>\n",
       "      <td>None</td>\n",
       "      <td>Salt</td>\n",
       "      <td>Dairy</td>\n",
       "      <td>10.83</td>\n",
       "      <td>3.7</td>\n",
       "      <td>0</td>\n",
       "    </tr>\n",
       "  </tbody>\n",
       "</table>\n",
       "</div>"
      ],
      "text/plain": [
       "          Food Product Main Ingredient Sweetener Fat/Oil Seasoning  \\\n",
       "0       Almond Cookies         Almonds     Sugar  Butter     Flour   \n",
       "1       Almond Cookies         Almonds     Sugar  Butter     Flour   \n",
       "2  Chicken Noodle Soup   Chicken broth      None    None      Salt   \n",
       "3  Chicken Noodle Soup   Chicken broth      None    None      Salt   \n",
       "4       Cheddar Cheese          Cheese      None    None      Salt   \n",
       "\n",
       "                Allergens  Price ($)  Customer rating (Out of 5)  Prediction  \n",
       "0   Almonds, Wheat, Dairy      10.15                         3.1           0  \n",
       "1   Almonds, Wheat, Dairy       6.17                         4.5           0  \n",
       "2  Chicken, Wheat, Celery      19.65                         4.1           0  \n",
       "3  Chicken, Wheat, Celery      17.48                         4.7           0  \n",
       "4                   Dairy      10.83                         3.7           0  "
      ]
     },
     "execution_count": 30,
     "metadata": {},
     "output_type": "execute_result"
    }
   ],
   "source": [
    "# Apply label encoding for Prediction\n",
    "label_encoder = LabelEncoder()\n",
    "df['Prediction'] = label_encoder.fit_transform(df['Prediction'])\n",
    "print(\"Dataset after label encoding 'Prediction':\")\n",
    "df.head()"
   ]
  },
  {
   "cell_type": "markdown",
   "id": "1f939bb1-aa7b-43bd-8a06-50afe92f396a",
   "metadata": {},
   "source": [
    "## Leave-One-Out Encoding for Categorical Variables"
   ]
  },
  {
   "cell_type": "markdown",
   "id": "50cf9e98-d5d3-4603-be95-1fe2b2dedcb4",
   "metadata": {},
   "source": [
    "For other categorical variables, we use Leave-One-Out Encoding, which minimizes data leakage during training by encoding based on mean values computed without including the current row."
   ]
  },
  {
   "cell_type": "code",
   "execution_count": 31,
   "id": "36a6c2c1-5ed9-445b-9b8c-4f1303957a62",
   "metadata": {},
   "outputs": [
    {
     "name": "stdout",
     "output_type": "stream",
     "text": [
      "Dataset after Leave-One-Out Encoding:\n"
     ]
    },
    {
     "data": {
      "text/html": [
       "<div>\n",
       "<style scoped>\n",
       "    .dataframe tbody tr th:only-of-type {\n",
       "        vertical-align: middle;\n",
       "    }\n",
       "\n",
       "    .dataframe tbody tr th {\n",
       "        vertical-align: top;\n",
       "    }\n",
       "\n",
       "    .dataframe thead th {\n",
       "        text-align: right;\n",
       "    }\n",
       "</style>\n",
       "<table border=\"1\" class=\"dataframe\">\n",
       "  <thead>\n",
       "    <tr style=\"text-align: right;\">\n",
       "      <th></th>\n",
       "      <th>Price ($)</th>\n",
       "      <th>Customer rating (Out of 5)</th>\n",
       "      <th>Prediction</th>\n",
       "      <th>Food Product</th>\n",
       "      <th>Main Ingredient</th>\n",
       "      <th>Sweetener</th>\n",
       "      <th>Fat/Oil</th>\n",
       "      <th>Seasoning</th>\n",
       "      <th>Allergens</th>\n",
       "    </tr>\n",
       "  </thead>\n",
       "  <tbody>\n",
       "    <tr>\n",
       "      <th>0</th>\n",
       "      <td>10.15</td>\n",
       "      <td>3.1</td>\n",
       "      <td>0</td>\n",
       "      <td>6.170000</td>\n",
       "      <td>6.170</td>\n",
       "      <td>12.343736</td>\n",
       "      <td>12.471786</td>\n",
       "      <td>13.408</td>\n",
       "      <td>6.170000</td>\n",
       "    </tr>\n",
       "    <tr>\n",
       "      <th>1</th>\n",
       "      <td>6.17</td>\n",
       "      <td>4.5</td>\n",
       "      <td>0</td>\n",
       "      <td>10.150000</td>\n",
       "      <td>10.150</td>\n",
       "      <td>12.387473</td>\n",
       "      <td>12.519167</td>\n",
       "      <td>13.806</td>\n",
       "      <td>10.150000</td>\n",
       "    </tr>\n",
       "    <tr>\n",
       "      <th>2</th>\n",
       "      <td>19.65</td>\n",
       "      <td>4.1</td>\n",
       "      <td>0</td>\n",
       "      <td>12.500000</td>\n",
       "      <td>17.480</td>\n",
       "      <td>12.371511</td>\n",
       "      <td>12.031228</td>\n",
       "      <td>11.584</td>\n",
       "      <td>17.480000</td>\n",
       "    </tr>\n",
       "    <tr>\n",
       "      <th>3</th>\n",
       "      <td>17.48</td>\n",
       "      <td>4.7</td>\n",
       "      <td>0</td>\n",
       "      <td>13.223333</td>\n",
       "      <td>19.650</td>\n",
       "      <td>12.379317</td>\n",
       "      <td>12.069298</td>\n",
       "      <td>11.801</td>\n",
       "      <td>19.650000</td>\n",
       "    </tr>\n",
       "    <tr>\n",
       "      <th>4</th>\n",
       "      <td>10.83</td>\n",
       "      <td>3.7</td>\n",
       "      <td>0</td>\n",
       "      <td>12.397588</td>\n",
       "      <td>17.925</td>\n",
       "      <td>12.403237</td>\n",
       "      <td>12.185965</td>\n",
       "      <td>12.466</td>\n",
       "      <td>12.072073</td>\n",
       "    </tr>\n",
       "  </tbody>\n",
       "</table>\n",
       "</div>"
      ],
      "text/plain": [
       "   Price ($)  Customer rating (Out of 5)  Prediction  Food Product  \\\n",
       "0      10.15                         3.1           0      6.170000   \n",
       "1       6.17                         4.5           0     10.150000   \n",
       "2      19.65                         4.1           0     12.500000   \n",
       "3      17.48                         4.7           0     13.223333   \n",
       "4      10.83                         3.7           0     12.397588   \n",
       "\n",
       "   Main Ingredient  Sweetener    Fat/Oil  Seasoning  Allergens  \n",
       "0            6.170  12.343736  12.471786     13.408   6.170000  \n",
       "1           10.150  12.387473  12.519167     13.806  10.150000  \n",
       "2           17.480  12.371511  12.031228     11.584  17.480000  \n",
       "3           19.650  12.379317  12.069298     11.801  19.650000  \n",
       "4           17.925  12.403237  12.185965     12.466  12.072073  "
      ]
     },
     "execution_count": 31,
     "metadata": {},
     "output_type": "execute_result"
    }
   ],
   "source": [
    "# Apply Leave-One-Out encoding for all categorical columns\n",
    "categorical_columns = df.select_dtypes(include=['object']).columns\n",
    "loo_encoder = LeaveOneOutEncoder(cols=categorical_columns)\n",
    "\n",
    "# Transform the categorical columns\n",
    "df_encoded = loo_encoder.fit_transform(df[categorical_columns], df['Price ($)'])\n",
    "\n",
    "# Combine the encoded columns with the rest of the dataset\n",
    "df = pd.concat([df.drop(categorical_columns, axis=1), df_encoded], axis=1)\n",
    "\n",
    "# Save the encoder for later use\n",
    "with open('Model/leave_one_out_encoder.pkl', 'wb') as file:\n",
    "    pickle.dump(loo_encoder, file)\n",
    "\n",
    "print(\"Dataset after Leave-One-Out Encoding:\")\n",
    "df.head()"
   ]
  },
  {
   "cell_type": "markdown",
   "id": "6d56f4fa-61b3-4f7d-8f8f-e87eea89292a",
   "metadata": {},
   "source": [
    "# Saving the Processed Dataset"
   ]
  },
  {
   "cell_type": "markdown",
   "id": "1d2c5b61-82a8-4ba4-886f-fe9de3ad7b12",
   "metadata": {},
   "source": [
    "The preprocessed dataset will be saved as a CSV file for further analysis and modeling. This ensures that we can reuse the processed data without repeating these steps."
   ]
  },
  {
   "cell_type": "code",
   "execution_count": 32,
   "id": "01e77f31-8b7d-4a2e-8778-ee922b12179b",
   "metadata": {},
   "outputs": [
    {
     "name": "stdout",
     "output_type": "stream",
     "text": [
      "Processed dataset saved as 'preprocessed_data.csv'.\n"
     ]
    }
   ],
   "source": [
    "# Save the processed dataset to a CSV file\n",
    "df.to_csv('Dataset/preprocessed_data.csv', index=False)\n",
    "print(\"Processed dataset saved as 'preprocessed_data.csv'.\")"
   ]
  }
 ],
 "metadata": {
  "kernelspec": {
   "display_name": "Python 3 (ipykernel)",
   "language": "python",
   "name": "python3"
  },
  "language_info": {
   "codemirror_mode": {
    "name": "ipython",
    "version": 3
   },
   "file_extension": ".py",
   "mimetype": "text/x-python",
   "name": "python",
   "nbconvert_exporter": "python",
   "pygments_lexer": "ipython3",
   "version": "3.12.7"
  }
 },
 "nbformat": 4,
 "nbformat_minor": 5
}
